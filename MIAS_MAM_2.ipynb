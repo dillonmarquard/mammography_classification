{
 "cells": [
  {
   "cell_type": "code",
   "execution_count": 1,
   "metadata": {},
   "outputs": [],
   "source": [
    "import pandas as pd\n",
    "from matplotlib import pyplot\n",
    "import re\n",
    "import numpy as np\n",
    "import tensorflow as tf\n",
    "import keras\n",
    "from tensorflow.keras import datasets, layers, models\n",
    "import matplotlib.pyplot as plt\n",
    "import seaborn as sn\n",
    "from sklearn.model_selection import train_test_split"
   ]
  },
  {
   "cell_type": "code",
   "execution_count": 2,
   "metadata": {},
   "outputs": [],
   "source": [
    "def read_pgm(filename, byteorder='>'):\n",
    "    \"\"\"Return image data from a raw PGM file as numpy array.\n",
    "    Format specification: http://netpbm.sourceforge.net/doc/pgm.html\n",
    "    \"\"\"\n",
    "    with open(filename, 'rb') as f:\n",
    "        buffer = f.read()\n",
    "    try:\n",
    "        header, width, height, maxval = re.search(\n",
    "            b\"(^P5\\s(?:\\s*#.*[\\r\\n])*\"\n",
    "            b\"(\\d+)\\s(?:\\s*#.*[\\r\\n])*\"\n",
    "            b\"(\\d+)\\s(?:\\s*#.*[\\r\\n])*\"\n",
    "            b\"(\\d+)\\s(?:\\s*#.*[\\r\\n]\\s)*)\", buffer).groups()\n",
    "    except AttributeError:\n",
    "        raise ValueError(\"Not a raw PGM file: '%s'\" % filename)\n",
    "    return np.frombuffer(buffer,\n",
    "                            dtype='u1' if int(maxval) < 256 else byteorder+'u2',\n",
    "                            count=int(width)*int(height),\n",
    "                            offset=len(header)\n",
    "                            ).reshape((int(height), int(width)))\n",
    "def view_img(pdata):\n",
    "    pyplot.imshow(pdata, pyplot.cm.gray)\n",
    "    pyplot.show()"
   ]
  },
  {
   "cell_type": "code",
   "execution_count": 3,
   "metadata": {},
   "outputs": [],
   "source": [
    "with open('D:/dmarq/Projects/ML/MIAS_Mammography/Info.txt') as file:\n",
    "    data = file.read()\n",
    "    arr = data.split(\"\\n\")\n",
    "    for i, each in enumerate(arr):\n",
    "        arr[i] = each.split()\n",
    "keys = {key:[] for key in arr[0]}\n",
    "mam_df = pd.DataFrame(data=arr[1:],columns=keys)\n",
    "\n",
    "mam_df = mam_df.drop(mam_df[mam_df[\"CLASS\"] == 'ARCH'].iloc[15:].index)\n",
    "mam_df = mam_df.drop(mam_df[mam_df[\"CLASS\"] == 'NORM'].iloc[15:].index)\n",
    "mam_df = mam_df.drop(mam_df[mam_df[\"CLASS\"] == 'CIRC'].iloc[15:].index)\n",
    "mam_df = mam_df.drop(mam_df[mam_df[\"CLASS\"] == 'SPIC'].iloc[15:].index)\n",
    "mam_df = mam_df.drop(mam_df[mam_df[\"CLASS\"] == 'MISC'].iloc[15:].index)\n",
    "mam_df = mam_df.drop(mam_df[mam_df[\"CLASS\"] == 'ASYM'].iloc[15:].index)\n",
    "mam_df = mam_df.drop(mam_df[mam_df[\"CLASS\"] == 'CALC'].iloc[15:].index)\n",
    "\n",
    "mam_df[\"CLASS\"].describe()\n",
    "input_shape = (mam_df.shape[0],1024,1024,1)"
   ]
  },
  {
   "cell_type": "code",
   "execution_count": 4,
   "metadata": {},
   "outputs": [],
   "source": [
    "# np array of model input imgs\n",
    "input_imgs = []\n",
    "for file_name in mam_df['REFNUM']:\n",
    "    pdata = read_pgm('D:/dmarq/Projects/ML/MIAS_Mammography/data/{}.pgm'.format(file_name), byteorder='<')\n",
    "#     pdata = np.asarray(pdata)[200:900,200:700] # resize\n",
    "    input_imgs.append(np.asarray(pdata/255.))\n",
    "input_imgs = np.asarray(input_imgs)\n",
    "input_imgs = input_imgs.reshape(input_shape)"
   ]
  },
  {
   "cell_type": "code",
   "execution_count": 5,
   "metadata": {},
   "outputs": [],
   "source": [
    "CLASS_KEY = [\"NORM\",\"CALC\",\"CIRC\",\"SPIC\",\"MISC\",\"ARCH\",\"ASYM\"]\n",
    "CLASS_COLOR = np.array([0,36,36*2,36*3,36*4,36*5,36*6])/216.\n",
    "CLASS_df = pd.DataFrame(CLASS_KEY,columns=[\"CLASS\"])\n",
    "# CLASS_df.head(10)"
   ]
  },
  {
   "cell_type": "code",
   "execution_count": 6,
   "metadata": {},
   "outputs": [],
   "source": [
    "def translate_label(label):\n",
    "    key = CLASS_KEY[np.argmax(label)]\n",
    "    x = label[1]*1024\n",
    "    y = label[2]*1024\n",
    "    radius = label[3]*150\n",
    "    return key # ,x,y,radius]"
   ]
  },
  {
   "cell_type": "code",
   "execution_count": 7,
   "metadata": {},
   "outputs": [],
   "source": [
    "output_imgs = np.zeros((len(input_imgs),1024,1024,1)) # imgs are 1024x1024\n",
    "for mam, loc in enumerate(mam_df[[\"CLASS\",\"X\",\"Y\",\"RADIUS\"]].values):\n",
    "    if loc[0] != \"NORM\":\n",
    "        if loc[1] == None:\n",
    "            x = 1024//2\n",
    "            y = 1024//2\n",
    "            radius = 150\n",
    "        else:\n",
    "            x = int(loc[1])\n",
    "            y = int(loc[2])\n",
    "            radius = int(loc[3])\n",
    "        color = CLASS_COLOR[CLASS_KEY.index(loc[0])]\n",
    "        for i in range(x-radius//2,x+radius//2):\n",
    "            for j in range(y-radius//2,y+radius//2):\n",
    "                output_imgs[mam][i][j] = color\n",
    "    else:\n",
    "        output_imgs[mam] = None"
   ]
  },
  {
   "cell_type": "code",
   "execution_count": 8,
   "metadata": {},
   "outputs": [],
   "source": [
    "output_list = np.zeros((input_shape[0],7))\n",
    "for mam, loc in enumerate(mam_df[[\"CLASS\",\"X\",\"Y\",\"RADIUS\"]].values):\n",
    "#     if loc[0] != \"NORM\":\n",
    "#         if loc[1] == None:\n",
    "#             x = 1024//2\n",
    "#             y = 1024//2\n",
    "#             radius = 150\n",
    "#         else:\n",
    "#             x = int(loc[1])\n",
    "#             y = int(loc[2])\n",
    "#             radius = int(loc[3])\n",
    "#         color = CLASS_COLOR[CLASS_KEY.index(loc[0])]\n",
    "    output_list[mam] = np.zeros(7)\n",
    "    output_list[mam][CLASS_KEY.index(loc[0])] = 1"
   ]
  },
  {
   "cell_type": "code",
   "execution_count": 9,
   "metadata": {
    "scrolled": true
   },
   "outputs": [
    {
     "name": "stdout",
     "output_type": "stream",
     "text": [
      "['CIRC' '522' '280' '69']\n",
      "[0. 0. 1. 0. 0. 0. 0.]\n"
     ]
    },
    {
     "data": {
      "image/png": "[encoded data removed]",
      "text/plain": [
       "<Figure size 432x288 with 1 Axes>"
      ]
     },
     "metadata": {
      "needs_background": "light"
     },
     "output_type": "display_data"
    },
    {
     "data": {
      "image/png": "[encoded data removed]",
      "text/plain": [
       "<Figure size 432x288 with 1 Axes>"
      ]
     },
     "metadata": {
      "needs_background": "light"
     },
     "output_type": "display_data"
    }
   ],
   "source": [
    "index = 1\n",
    "print(mam_df[[\"CLASS\",\"X\",\"Y\",\"RADIUS\"]].values[index])\n",
    "print(output_list[index])\n",
    "view_img(input_imgs[index])\n",
    "view_img(output_imgs[index])"
   ]
  },
  {
   "cell_type": "code",
   "execution_count": 10,
   "metadata": {
    "scrolled": true
   },
   "outputs": [],
   "source": [
    "# PCA region\n",
    "# activeregion = np.zeros((700,500,1))\n",
    "# for img in input_imgs:\n",
    "#     activeregion += img\n",
    "# activeregion /= len(input_imgs)\n",
    "# view_img(activeregion)"
   ]
  },
  {
   "cell_type": "raw",
   "metadata": {},
   "source": [
    "1st column: MIAS database reference number.\n",
    "\n",
    "2nd column: Character of background tissue: \n",
    "                F - Fatty \n",
    "                G - Fatty-glandular\n",
    "                D - Dense-glandular\n",
    "\n",
    "3rd column: Class of abnormality present:\n",
    "                CALC - Calcification\n",
    "                CIRC - Well-defined/circumscribed masses\n",
    "                SPIC - Spiculated masses\n",
    "                MISC - Other, ill-defined masses\n",
    "                ARCH - Architectural distortion\n",
    "                ASYM - Asymmetry\n",
    "                NORM - Normal\n",
    "\n",
    "4th column: Severity of abnormality;\n",
    "                B - Benign\n",
    "                M - Malignant\n",
    "                \n",
    "5th,6th columns: x,y image-coordinates of centre of abnormality.\n",
    "\n",
    "7th column: Approximate radius (in pixels) of a circle enclosing\n",
    "\t    the abnormality.\n",
    "        "
   ]
  },
  {
   "cell_type": "code",
   "execution_count": 17,
   "metadata": {},
   "outputs": [],
   "source": [
    "X_train, X_test, Y_train, Y_test = train_test_split(input_imgs, output_list,train_size=.6, shuffle=True)"
   ]
  },
  {
   "cell_type": "code",
   "execution_count": 18,
   "metadata": {
    "scrolled": true
   },
   "outputs": [
    {
     "name": "stdout",
     "output_type": "stream",
     "text": [
      "Model: \"sequential_1\"\n",
      "_________________________________________________________________\n",
      "Layer (type)                 Output Shape              Param #   \n",
      "=================================================================\n",
      "conv2d_3 (Conv2D)            (None, 1021, 1021, 32)    544       \n",
      "_________________________________________________________________\n",
      "activation_7 (Activation)    (None, 1021, 1021, 32)    0         \n",
      "_________________________________________________________________\n",
      "max_pooling2d_2 (MaxPooling2 (None, 340, 340, 32)      0         \n",
      "_________________________________________________________________\n",
      "conv2d_4 (Conv2D)            (None, 337, 337, 32)      16416     \n",
      "_________________________________________________________________\n",
      "activation_8 (Activation)    (None, 337, 337, 32)      0         \n",
      "_________________________________________________________________\n",
      "max_pooling2d_3 (MaxPooling2 (None, 112, 112, 32)      0         \n",
      "_________________________________________________________________\n",
      "conv2d_5 (Conv2D)            (None, 109, 109, 16)      8208      \n",
      "_________________________________________________________________\n",
      "activation_9 (Activation)    (None, 109, 109, 16)      0         \n",
      "_________________________________________________________________\n",
      "global_max_pooling2d_1 (Glob (None, 16)                0         \n",
      "_________________________________________________________________\n",
      "dense_4 (Dense)              (None, 32)                544       \n",
      "_________________________________________________________________\n",
      "activation_10 (Activation)   (None, 32)                0         \n",
      "_________________________________________________________________\n",
      "activity_regularization_1 (A (None, 32)                0         \n",
      "_________________________________________________________________\n",
      "dense_5 (Dense)              (None, 16)                528       \n",
      "_________________________________________________________________\n",
      "activation_11 (Activation)   (None, 16)                0         \n",
      "_________________________________________________________________\n",
      "dense_6 (Dense)              (None, 16)                272       \n",
      "_________________________________________________________________\n",
      "activation_12 (Activation)   (None, 16)                0         \n",
      "_________________________________________________________________\n",
      "dense_7 (Dense)              (None, 7)                 119       \n",
      "_________________________________________________________________\n",
      "activation_13 (Activation)   (None, 7)                 0         \n",
      "=================================================================\n",
      "Total params: 26,631\n",
      "Trainable params: 26,631\n",
      "Non-trainable params: 0\n",
      "_________________________________________________________________\n"
     ]
    }
   ],
   "source": [
    "model = models.Sequential()\n",
    "model.add(layers.Conv2D(32, (4,4), input_shape=input_shape[1:]))\n",
    "model.add(layers.Activation('relu'))\n",
    "model.add(layers.MaxPooling2D(3))\n",
    "model.add(layers.Conv2D(32, (4,4)))\n",
    "model.add(layers.Activation('relu'))\n",
    "model.add(layers.MaxPooling2D(3))\n",
    "model.add(layers.Conv2D(16, (4,4)))\n",
    "model.add(layers.Activation('relu'))\n",
    "\n",
    "model.add(layers.GlobalMaxPooling2D())\n",
    "\n",
    "model.add(layers.Dense(32))\n",
    "model.add(layers.Activation('relu'))\n",
    "model.add(layers.ActivityRegularization(l2=1e-4)) # try just l2 loss\n",
    "model.add(layers.Dense(16))\n",
    "model.add(layers.Activation('relu'))\n",
    "model.add(layers.Dense(16))\n",
    "model.add(layers.Activation('relu'))\n",
    "model.add(layers.Dense(7))\n",
    "model.add(layers.Activation('softmax'))\n",
    "model.compile(loss='categorical_crossentropy',\n",
    "                  optimizer=keras.optimizers.SGD(lr=3e-2,momentum=.97),\n",
    "                  metrics=[\"accuracy\"])\n",
    "model.summary()"
   ]
  },
  {
   "cell_type": "code",
   "execution_count": 19,
   "metadata": {
    "scrolled": true
   },
   "outputs": [
    {
     "name": "stdout",
     "output_type": "stream",
     "text": [
      "Epoch 1/3\n",
      "17/17 [==============================] - 33s 2s/step - loss: 1.9362 - accuracy: 0.2235 - val_loss: 1.9927 - val_accuracy: 0.0862\n",
      "Epoch 2/3\n",
      "17/17 [==============================] - 34s 2s/step - loss: 1.9468 - accuracy: 0.2353 - val_loss: 2.1154 - val_accuracy: 0.0862\n",
      "Epoch 3/3\n",
      "17/17 [==============================] - 33s 2s/step - loss: 1.9103 - accuracy: 0.2353 - val_loss: 2.0347 - val_accuracy: 0.0862\n"
     ]
    }
   ],
   "source": [
    "with tf.device('/GPU:1'):\n",
    "    model.fit(X_train,Y_train,validation_data=(X_test, Y_test),verbose=1,epochs=3,batch_size=5,shuffle=True)"
   ]
  },
  {
   "cell_type": "code",
   "execution_count": 23,
   "metadata": {
    "scrolled": true
   },
   "outputs": [],
   "source": [
    "y = model.predict(X_test)"
   ]
  },
  {
   "cell_type": "code",
   "execution_count": 24,
   "metadata": {
    "scrolled": true
   },
   "outputs": [],
   "source": [
    "y_pred = []\n",
    "for i , j in enumerate(y):\n",
    "#     print(\"actual\",mam_df[[\"CLASS\"]].values[i] == translate_label(j))\n",
    "#     print(j)\n",
    "    y_pred.append(translate_label(j))\n",
    "#     print(\"\")\n",
    "#     view_img(input_imgs[i])\n",
    "#     view_img(output_imgs[i])\n",
    "# print(y_pred)"
   ]
  },
  {
   "cell_type": "code",
   "execution_count": 25,
   "metadata": {},
   "outputs": [
    {
     "data": {
      "text/plain": [
       "<AxesSubplot:xlabel='Predicted', ylabel='Actual'>"
      ]
     },
     "execution_count": 25,
     "metadata": {},
     "output_type": "execute_result"
    },
    {
     "data": {
      "image/png": "[encoded data removed]",
      "text/plain": [
       "<Figure size 432x288 with 2 Axes>"
      ]
     },
     "metadata": {
      "needs_background": "light"
     },
     "output_type": "display_data"
    }
   ],
   "source": [
    "data = {'y_Actual':    Y_test, # mam_df[\"CLASS\"].values[0:len(y_pred)],\n",
    "        'y_Predicted': y_pred\n",
    "        }\n",
    "df_actual = pd.Categorical(mam_df[\"CLASS\"].values[0:len(y_pred)], categories=CLASS_KEY)\n",
    "df_pred = pd.Categorical(y_pred, categories=CLASS_KEY)\n",
    "\n",
    "confusion_matrix = pd.crosstab(df_actual,df_pred, rownames=['Actual'], colnames=['Predicted'])\n",
    "\n",
    "sn.heatmap(confusion_matrix, annot=True)"
   ]
  },
  {
   "cell_type": "code",
   "execution_count": null,
   "metadata": {},
   "outputs": [],
   "source": []
  }
 ],
 "metadata": {
  "kernelspec": {
   "display_name": "Python 3",
   "language": "python",
   "name": "python3"
  },
  "language_info": {
   "codemirror_mode": {
    "name": "ipython",
    "version": 3
   },
   "file_extension": ".py",
   "mimetype": "text/x-python",
   "name": "python",
   "nbconvert_exporter": "python",
   "pygments_lexer": "ipython3",
   "version": "3.7.9"
  }
 },
 "nbformat": 4,
 "nbformat_minor": 4
}
