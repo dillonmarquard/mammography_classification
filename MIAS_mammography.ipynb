{
 "cells": [
  {
   "cell_type": "code",
   "execution_count": 1,
   "metadata": {},
   "outputs": [],
   "source": [
    "import pandas as pd\n",
    "from matplotlib import pyplot\n",
    "import re\n",
    "import numpy as np\n",
    "import tensorflow as tf\n",
    "import keras\n",
    "from tensorflow.keras import datasets, layers, models\n",
    "import matplotlib.pyplot as plt"
   ]
  },
  {
   "cell_type": "code",
   "execution_count": 2,
   "metadata": {},
   "outputs": [],
   "source": [
    "def read_pgm(filename, byteorder='>'):\n",
    "    \"\"\"Return image data from a raw PGM file as numpy array.\n",
    "    Format specification: http://netpbm.sourceforge.net/doc/pgm.html\n",
    "    \"\"\"\n",
    "    with open(filename, 'rb') as f:\n",
    "        buffer = f.read()\n",
    "    try:\n",
    "        header, width, height, maxval = re.search(\n",
    "            b\"(^P5\\s(?:\\s*#.*[\\r\\n])*\"\n",
    "            b\"(\\d+)\\s(?:\\s*#.*[\\r\\n])*\"\n",
    "            b\"(\\d+)\\s(?:\\s*#.*[\\r\\n])*\"\n",
    "            b\"(\\d+)\\s(?:\\s*#.*[\\r\\n]\\s)*)\", buffer).groups()\n",
    "    except AttributeError:\n",
    "        raise ValueError(\"Not a raw PGM file: '%s'\" % filename)\n",
    "    return np.frombuffer(buffer,\n",
    "                            dtype='u1' if int(maxval) < 256 else byteorder+'u2',\n",
    "                            count=int(width)*int(height),\n",
    "                            offset=len(header)\n",
    "                            ).reshape((int(height), int(width)))\n",
    "def view_img(pdata):\n",
    "    pyplot.imshow(pdata, pyplot.cm.gray)\n",
    "    pyplot.show()"
   ]
  },
  {
   "cell_type": "code",
   "execution_count": 3,
   "metadata": {},
   "outputs": [],
   "source": [
    "threshold = 0;\n",
    "def translate_output(prediction):\n",
    "    answer_whole = []\n",
    "    for pred in prediction:\n",
    "        answer = []\n",
    "        # background classification\n",
    "        answer.append(onehot_bg.keys()[np.argmax(pred[0:3])])\n",
    "        # classification of mass\n",
    "        b = np.argmax(pred[3:10])\n",
    "        answer.append(onehot_class.keys()[b])\n",
    "        \n",
    "        # severity of mass\n",
    "        c = np.argmax(pred[10:12])\n",
    "        answer.append(onehot_severity.keys()[c])\n",
    "        # x, y , radius of mass\n",
    "        # answer.append(prediction[12:]*1024.)\n",
    "        answer_whole.append(answer)\n",
    "    return answer_whole"
   ]
  },
  {
   "cell_type": "code",
   "execution_count": 4,
   "metadata": {
    "scrolled": true
   },
   "outputs": [],
   "source": [
    "with open('D:\\dmarq\\Projects\\MIAS_Mammography\\Info.txt') as file:\n",
    "    data = file.read()\n",
    "    arr = data.split(\"\\n\")\n",
    "    for i, each in enumerate(arr):\n",
    "        arr[i] = each.split()\n",
    "keys = {key:[] for key in arr[0]}\n",
    "mam_df = pd.DataFrame(data=arr[1:],columns=keys)"
   ]
  },
  {
   "cell_type": "code",
   "execution_count": 22,
   "metadata": {
    "scrolled": true
   },
   "outputs": [
    {
     "data": {
      "text/html": [
       "<div>\n",
       "<style scoped>\n",
       "    .dataframe tbody tr th:only-of-type {\n",
       "        vertical-align: middle;\n",
       "    }\n",
       "\n",
       "    .dataframe tbody tr th {\n",
       "        vertical-align: top;\n",
       "    }\n",
       "\n",
       "    .dataframe thead th {\n",
       "        text-align: right;\n",
       "    }\n",
       "</style>\n",
       "<table border=\"1\" class=\"dataframe\">\n",
       "  <thead>\n",
       "    <tr style=\"text-align: right;\">\n",
       "      <th></th>\n",
       "      <th>REFNUM</th>\n",
       "      <th>BG</th>\n",
       "      <th>CLASS</th>\n",
       "      <th>SEVERITY</th>\n",
       "      <th>X</th>\n",
       "      <th>Y</th>\n",
       "      <th>RADIUS</th>\n",
       "    </tr>\n",
       "  </thead>\n",
       "  <tbody>\n",
       "    <tr>\n",
       "      <th>0</th>\n",
       "      <td>mdb001</td>\n",
       "      <td>G</td>\n",
       "      <td>CIRC</td>\n",
       "      <td>B</td>\n",
       "      <td>535</td>\n",
       "      <td>425</td>\n",
       "      <td>197</td>\n",
       "    </tr>\n",
       "    <tr>\n",
       "      <th>1</th>\n",
       "      <td>mdb002</td>\n",
       "      <td>G</td>\n",
       "      <td>CIRC</td>\n",
       "      <td>B</td>\n",
       "      <td>522</td>\n",
       "      <td>280</td>\n",
       "      <td>69</td>\n",
       "    </tr>\n",
       "    <tr>\n",
       "      <th>2</th>\n",
       "      <td>mdb003</td>\n",
       "      <td>D</td>\n",
       "      <td>NORM</td>\n",
       "      <td>None</td>\n",
       "      <td>None</td>\n",
       "      <td>None</td>\n",
       "      <td>None</td>\n",
       "    </tr>\n",
       "    <tr>\n",
       "      <th>3</th>\n",
       "      <td>mdb004</td>\n",
       "      <td>D</td>\n",
       "      <td>NORM</td>\n",
       "      <td>None</td>\n",
       "      <td>None</td>\n",
       "      <td>None</td>\n",
       "      <td>None</td>\n",
       "    </tr>\n",
       "    <tr>\n",
       "      <th>4</th>\n",
       "      <td>mdb005</td>\n",
       "      <td>F</td>\n",
       "      <td>CIRC</td>\n",
       "      <td>B</td>\n",
       "      <td>477</td>\n",
       "      <td>133</td>\n",
       "      <td>30</td>\n",
       "    </tr>\n",
       "    <tr>\n",
       "      <th>5</th>\n",
       "      <td>mdb005</td>\n",
       "      <td>F</td>\n",
       "      <td>CIRC</td>\n",
       "      <td>B</td>\n",
       "      <td>500</td>\n",
       "      <td>168</td>\n",
       "      <td>26</td>\n",
       "    </tr>\n",
       "    <tr>\n",
       "      <th>6</th>\n",
       "      <td>mdb006</td>\n",
       "      <td>F</td>\n",
       "      <td>NORM</td>\n",
       "      <td>None</td>\n",
       "      <td>None</td>\n",
       "      <td>None</td>\n",
       "      <td>None</td>\n",
       "    </tr>\n",
       "    <tr>\n",
       "      <th>7</th>\n",
       "      <td>mdb007</td>\n",
       "      <td>G</td>\n",
       "      <td>NORM</td>\n",
       "      <td>None</td>\n",
       "      <td>None</td>\n",
       "      <td>None</td>\n",
       "      <td>None</td>\n",
       "    </tr>\n",
       "    <tr>\n",
       "      <th>8</th>\n",
       "      <td>mdb008</td>\n",
       "      <td>G</td>\n",
       "      <td>NORM</td>\n",
       "      <td>None</td>\n",
       "      <td>None</td>\n",
       "      <td>None</td>\n",
       "      <td>None</td>\n",
       "    </tr>\n",
       "    <tr>\n",
       "      <th>9</th>\n",
       "      <td>mdb009</td>\n",
       "      <td>F</td>\n",
       "      <td>NORM</td>\n",
       "      <td>None</td>\n",
       "      <td>None</td>\n",
       "      <td>None</td>\n",
       "      <td>None</td>\n",
       "    </tr>\n",
       "  </tbody>\n",
       "</table>\n",
       "</div>"
      ],
      "text/plain": [
       "   REFNUM BG CLASS SEVERITY     X     Y RADIUS\n",
       "0  mdb001  G  CIRC        B   535   425    197\n",
       "1  mdb002  G  CIRC        B   522   280     69\n",
       "2  mdb003  D  NORM     None  None  None   None\n",
       "3  mdb004  D  NORM     None  None  None   None\n",
       "4  mdb005  F  CIRC        B   477   133     30\n",
       "5  mdb005  F  CIRC        B   500   168     26\n",
       "6  mdb006  F  NORM     None  None  None   None\n",
       "7  mdb007  G  NORM     None  None  None   None\n",
       "8  mdb008  G  NORM     None  None  None   None\n",
       "9  mdb009  F  NORM     None  None  None   None"
      ]
     },
     "execution_count": 22,
     "metadata": {},
     "output_type": "execute_result"
    }
   ],
   "source": [
    "mam_df.head(10)"
   ]
  },
  {
   "cell_type": "code",
   "execution_count": 6,
   "metadata": {
    "scrolled": true
   },
   "outputs": [
    {
     "name": "stdout",
     "output_type": "stream",
     "text": [
      "CIRC REFNUM      25\n",
      "BG          25\n",
      "CLASS       25\n",
      "SEVERITY    25\n",
      "X           24\n",
      "Y           24\n",
      "RADIUS      24\n",
      "dtype: int64 \n",
      "\n",
      "NORM REFNUM      207\n",
      "BG          207\n",
      "CLASS       207\n",
      "SEVERITY      0\n",
      "X             0\n",
      "Y             0\n",
      "RADIUS        0\n",
      "dtype: int64 \n",
      "\n",
      "MISC REFNUM      15\n",
      "BG          15\n",
      "CLASS       15\n",
      "SEVERITY    15\n",
      "X           15\n",
      "Y           15\n",
      "RADIUS      15\n",
      "dtype: int64 \n",
      "\n",
      "ASYM REFNUM      15\n",
      "BG          15\n",
      "CLASS       15\n",
      "SEVERITY    15\n",
      "X           15\n",
      "Y           15\n",
      "RADIUS      15\n",
      "dtype: int64 \n",
      "\n",
      "ARCH REFNUM      19\n",
      "BG          19\n",
      "CLASS       19\n",
      "SEVERITY    19\n",
      "X           19\n",
      "Y           19\n",
      "RADIUS      19\n",
      "dtype: int64 \n",
      "\n",
      "SPIC REFNUM      19\n",
      "BG          19\n",
      "CLASS       19\n",
      "SEVERITY    19\n",
      "X           19\n",
      "Y           19\n",
      "RADIUS      19\n",
      "dtype: int64 \n",
      "\n",
      "CALC REFNUM      30\n",
      "BG          30\n",
      "CLASS       30\n",
      "SEVERITY    30\n",
      "X           27\n",
      "Y           27\n",
      "RADIUS      27\n",
      "dtype: int64 \n",
      "\n"
     ]
    }
   ],
   "source": [
    "for key in mam_df[\"CLASS\"].unique():\n",
    "    print(key,mam_df[mam_df['CLASS'] == key].count(),'\\n')"
   ]
  },
  {
   "cell_type": "code",
   "execution_count": 7,
   "metadata": {},
   "outputs": [],
   "source": [
    "mam_df = mam_df.drop(mam_df[mam_df[\"CLASS\"] == 'NORM'].iloc[25:].index)"
   ]
  },
  {
   "cell_type": "code",
   "execution_count": 8,
   "metadata": {},
   "outputs": [
    {
     "name": "stdout",
     "output_type": "stream",
     "text": [
      "<class 'pandas.core.frame.DataFrame'>\n",
      "Int64Index: 148 entries, 0 to 322\n",
      "Data columns (total 7 columns):\n",
      " #   Column    Non-Null Count  Dtype \n",
      "---  ------    --------------  ----- \n",
      " 0   REFNUM    148 non-null    object\n",
      " 1   BG        148 non-null    object\n",
      " 2   CLASS     148 non-null    object\n",
      " 3   SEVERITY  123 non-null    object\n",
      " 4   X         119 non-null    object\n",
      " 5   Y         119 non-null    object\n",
      " 6   RADIUS    119 non-null    object\n",
      "dtypes: object(7)\n",
      "memory usage: 9.2+ KB\n"
     ]
    }
   ],
   "source": [
    "mam_df.info()"
   ]
  },
  {
   "cell_type": "code",
   "execution_count": 9,
   "metadata": {
    "scrolled": true
   },
   "outputs": [],
   "source": [
    "#img_data = [] # ref name and pdata\n",
    "input_list = [] # just pdata\n",
    "for file_name in mam_df['REFNUM']:\n",
    "    pdata = read_pgm('D:\\dmarq\\Projects\\MIAS_Mammography\\data\\{}.pgm'.format(file_name), byteorder='<')\n",
    "    #img_data.append([file_name,pdata])\n",
    "    input_list.append(pdata/255.) \n",
    "input_list = np.array(input_list)"
   ]
  },
  {
   "cell_type": "code",
   "execution_count": 10,
   "metadata": {
    "scrolled": true
   },
   "outputs": [],
   "source": [
    "#output = []\n",
    "#for img in input_list:\n",
    "#    arr = []\n",
    "#    for row in img:\n",
    "#        arr.append([[e] for e in row])\n",
    "#    output.append(arr)"
   ]
  },
  {
   "cell_type": "code",
   "execution_count": 11,
   "metadata": {
    "scrolled": false
   },
   "outputs": [],
   "source": [
    "#view_img(img_data[69][1])"
   ]
  },
  {
   "cell_type": "code",
   "execution_count": 12,
   "metadata": {
    "scrolled": true
   },
   "outputs": [],
   "source": [
    "#print(\"X mean:\",mam_df[mam_df['X'].notnull()]['X'].astype('int').mean())\n",
    "#print(\"Y mean:\",mam_df[mam_df['Y'].notnull()]['Y'].astype('int').mean())\n",
    "#print(\"Radius mean:\",mam_df[mam_df['RADIUS'].notnull()]['RADIUS'].astype('int').mean()) # the only real meaningful stat"
   ]
  },
  {
   "cell_type": "raw",
   "metadata": {},
   "source": [
    "1st column: MIAS database reference number.\n",
    "\n",
    "2nd column: Character of background tissue: \n",
    "                F - Fatty \n",
    "                G - Fatty-glandular\n",
    "                D - Dense-glandular\n",
    "\n",
    "3rd column: Class of abnormality present:\n",
    "                CALC - Calcification\n",
    "                CIRC - Well-defined/circumscribed masses\n",
    "                SPIC - Spiculated masses\n",
    "                MISC - Other, ill-defined masses\n",
    "                ARCH - Architectural distortion\n",
    "                ASYM - Asymmetry\n",
    "                NORM - Normal\n",
    "\n",
    "4th column: Severity of abnormality;\n",
    "                B - Benign\n",
    "                M - Malignant\n",
    "                \n",
    "5th,6th columns: x,y image-coordinates of centre of abnormality.\n",
    "\n",
    "7th column: Approximate radius (in pixels) of a circle enclosing\n",
    "\t    the abnormality.\n"
   ]
  },
  {
   "cell_type": "code",
   "execution_count": 13,
   "metadata": {
    "scrolled": true
   },
   "outputs": [
    {
     "data": {
      "text/html": [
       "<div>\n",
       "<style scoped>\n",
       "    .dataframe tbody tr th:only-of-type {\n",
       "        vertical-align: middle;\n",
       "    }\n",
       "\n",
       "    .dataframe tbody tr th {\n",
       "        vertical-align: top;\n",
       "    }\n",
       "\n",
       "    .dataframe thead th {\n",
       "        text-align: right;\n",
       "    }\n",
       "</style>\n",
       "<table border=\"1\" class=\"dataframe\">\n",
       "  <thead>\n",
       "    <tr style=\"text-align: right;\">\n",
       "      <th></th>\n",
       "      <th>CLASS_ARCH</th>\n",
       "      <th>CLASS_ASYM</th>\n",
       "      <th>CLASS_CALC</th>\n",
       "      <th>CLASS_CIRC</th>\n",
       "      <th>CLASS_MISC</th>\n",
       "      <th>CLASS_NORM</th>\n",
       "      <th>CLASS_SPIC</th>\n",
       "    </tr>\n",
       "  </thead>\n",
       "  <tbody>\n",
       "    <tr>\n",
       "      <th>0</th>\n",
       "      <td>0</td>\n",
       "      <td>0</td>\n",
       "      <td>0</td>\n",
       "      <td>1</td>\n",
       "      <td>0</td>\n",
       "      <td>0</td>\n",
       "      <td>0</td>\n",
       "    </tr>\n",
       "    <tr>\n",
       "      <th>1</th>\n",
       "      <td>0</td>\n",
       "      <td>0</td>\n",
       "      <td>0</td>\n",
       "      <td>1</td>\n",
       "      <td>0</td>\n",
       "      <td>0</td>\n",
       "      <td>0</td>\n",
       "    </tr>\n",
       "    <tr>\n",
       "      <th>2</th>\n",
       "      <td>0</td>\n",
       "      <td>0</td>\n",
       "      <td>0</td>\n",
       "      <td>0</td>\n",
       "      <td>0</td>\n",
       "      <td>1</td>\n",
       "      <td>0</td>\n",
       "    </tr>\n",
       "    <tr>\n",
       "      <th>3</th>\n",
       "      <td>0</td>\n",
       "      <td>0</td>\n",
       "      <td>0</td>\n",
       "      <td>0</td>\n",
       "      <td>0</td>\n",
       "      <td>1</td>\n",
       "      <td>0</td>\n",
       "    </tr>\n",
       "    <tr>\n",
       "      <th>4</th>\n",
       "      <td>0</td>\n",
       "      <td>0</td>\n",
       "      <td>0</td>\n",
       "      <td>1</td>\n",
       "      <td>0</td>\n",
       "      <td>0</td>\n",
       "      <td>0</td>\n",
       "    </tr>\n",
       "    <tr>\n",
       "      <th>...</th>\n",
       "      <td>...</td>\n",
       "      <td>...</td>\n",
       "      <td>...</td>\n",
       "      <td>...</td>\n",
       "      <td>...</td>\n",
       "      <td>...</td>\n",
       "      <td>...</td>\n",
       "    </tr>\n",
       "    <tr>\n",
       "      <th>281</th>\n",
       "      <td>0</td>\n",
       "      <td>0</td>\n",
       "      <td>0</td>\n",
       "      <td>0</td>\n",
       "      <td>1</td>\n",
       "      <td>0</td>\n",
       "      <td>0</td>\n",
       "    </tr>\n",
       "    <tr>\n",
       "      <th>297</th>\n",
       "      <td>0</td>\n",
       "      <td>0</td>\n",
       "      <td>0</td>\n",
       "      <td>1</td>\n",
       "      <td>0</td>\n",
       "      <td>0</td>\n",
       "      <td>0</td>\n",
       "    </tr>\n",
       "    <tr>\n",
       "      <th>319</th>\n",
       "      <td>0</td>\n",
       "      <td>0</td>\n",
       "      <td>0</td>\n",
       "      <td>0</td>\n",
       "      <td>1</td>\n",
       "      <td>0</td>\n",
       "      <td>0</td>\n",
       "    </tr>\n",
       "    <tr>\n",
       "      <th>321</th>\n",
       "      <td>0</td>\n",
       "      <td>0</td>\n",
       "      <td>0</td>\n",
       "      <td>0</td>\n",
       "      <td>1</td>\n",
       "      <td>0</td>\n",
       "      <td>0</td>\n",
       "    </tr>\n",
       "    <tr>\n",
       "      <th>322</th>\n",
       "      <td>0</td>\n",
       "      <td>0</td>\n",
       "      <td>0</td>\n",
       "      <td>1</td>\n",
       "      <td>0</td>\n",
       "      <td>0</td>\n",
       "      <td>0</td>\n",
       "    </tr>\n",
       "  </tbody>\n",
       "</table>\n",
       "<p>148 rows × 7 columns</p>\n",
       "</div>"
      ],
      "text/plain": [
       "     CLASS_ARCH  CLASS_ASYM  CLASS_CALC  CLASS_CIRC  CLASS_MISC  CLASS_NORM  \\\n",
       "0             0           0           0           1           0           0   \n",
       "1             0           0           0           1           0           0   \n",
       "2             0           0           0           0           0           1   \n",
       "3             0           0           0           0           0           1   \n",
       "4             0           0           0           1           0           0   \n",
       "..          ...         ...         ...         ...         ...         ...   \n",
       "281           0           0           0           0           1           0   \n",
       "297           0           0           0           1           0           0   \n",
       "319           0           0           0           0           1           0   \n",
       "321           0           0           0           0           1           0   \n",
       "322           0           0           0           1           0           0   \n",
       "\n",
       "     CLASS_SPIC  \n",
       "0             0  \n",
       "1             0  \n",
       "2             0  \n",
       "3             0  \n",
       "4             0  \n",
       "..          ...  \n",
       "281           0  \n",
       "297           0  \n",
       "319           0  \n",
       "321           0  \n",
       "322           0  \n",
       "\n",
       "[148 rows x 7 columns]"
      ]
     },
     "execution_count": 13,
     "metadata": {},
     "output_type": "execute_result"
    }
   ],
   "source": [
    "# encode outputs for each image\n",
    "onehot_bg = pd.get_dummies(mam_df['BG'],prefix='BG')\n",
    "onehot_class = pd.get_dummies(mam_df['CLASS'],prefix='CLASS')\n",
    "onehot_severity = pd.get_dummies(mam_df['SEVERITY'],prefix='SEVERITY')\n",
    "coords = mam_df[[\"X\",\"Y\",\"RADIUS\"]]\n",
    "# \n",
    "coords_encoded = []\n",
    "for each in coords.iloc:\n",
    "    try:\n",
    "        coords_encoded.append(each.values.astype('int')/1024.)\n",
    "    except:\n",
    "        coords_encoded.append(np.zeros(3))\n",
    "onehot_bg\n",
    "onehot_class\n",
    "#onehot_severity"
   ]
  },
  {
   "cell_type": "code",
   "execution_count": 14,
   "metadata": {
    "scrolled": true
   },
   "outputs": [
    {
     "data": {
      "text/plain": [
       "array([0, 0, 1, 0, 0, 0, 1, 0, 0, 0, 1, 0], dtype=uint8)"
      ]
     },
     "execution_count": 14,
     "metadata": {},
     "output_type": "execute_result"
    }
   ],
   "source": [
    "outputs = [] # this formats the output as bg, class, severity,\n",
    "for i in range(mam_df.shape[0]):\n",
    "    outputs.append(np.concatenate((onehot_bg.iloc[i].values,onehot_class.iloc[i].values,onehot_severity.iloc[i].values))) # ,coords_encoded[i]\n",
    "outputs = np.array(outputs)\n",
    "outputs[0]"
   ]
  },
  {
   "cell_type": "code",
   "execution_count": 15,
   "metadata": {},
   "outputs": [],
   "source": [
    "input_list = input_list.reshape(mam_df.shape[0], 1024, 1024, 1)"
   ]
  },
  {
   "cell_type": "raw",
   "metadata": {},
   "source": [
    "One Hot Encoding Map\n",
    "<class 'pandas.core.frame.DataFrame'>\n",
    "RangeIndex: 330 entries, 0 to 329\n",
    "Data columns (total 3 columns):\n",
    "    Column  Non-Null Count  Dtype\n",
    "---  ------  --------------  -----\n",
    " 0   BG_D    330 non-null    uint8\n",
    " 1   BG_F    330 non-null    uint8\n",
    " 2   BG_G    330 non-null    uint8\n",
    "dtypes: uint8(3)\n",
    "memory usage: 1.1 KB\n",
    "<class 'pandas.core.frame.DataFrame'>\n",
    "RangeIndex: 330 entries, 0 to 329\n",
    "Data columns (total 7 columns):\n",
    "    Column      Non-Null Count  Dtype\n",
    "---  ------      --------------  -----\n",
    " 0   CLASS_ARCH  330 non-null    uint8\n",
    " 1   CLASS_ASYM  330 non-null    uint8\n",
    " 2   CLASS_CALC  330 non-null    uint8\n",
    " 3   CLASS_CIRC  330 non-null    uint8\n",
    " 4   CLASS_MISC  330 non-null    uint8\n",
    " 5   CLASS_NORM  330 non-null    uint8\n",
    " 6   CLASS_SPIC  330 non-null    uint8\n",
    "dtypes: uint8(7)\n",
    "memory usage: 2.4 KB\n",
    "<class 'pandas.core.frame.DataFrame'>\n",
    "RangeIndex: 330 entries, 0 to 329\n",
    "Data columns (total 2 columns):\n",
    "    Column      Non-Null Count  Dtype\n",
    "---  ------      --------------  -----\n",
    " 0   SEVERITY_B  330 non-null    uint8\n",
    " 1   SEVERITY_M  330 non-null    uint8\n",
    "dtypes: uint8(2)\n",
    "memory usage: 788.0 bytes\n",
    "\n",
    "then\n",
    "[X , Y , Radius] or [0 , 0 , 0] if null"
   ]
  },
  {
   "cell_type": "code",
   "execution_count": 16,
   "metadata": {},
   "outputs": [],
   "source": [
    "input_shape = (mam_df.shape[0],1024,1024,1)"
   ]
  },
  {
   "cell_type": "code",
   "execution_count": 17,
   "metadata": {
    "scrolled": true
   },
   "outputs": [
    {
     "name": "stdout",
     "output_type": "stream",
     "text": [
      "Model: \"sequential\"\n",
      "_________________________________________________________________\n",
      "Layer (type)                 Output Shape              Param #   \n",
      "=================================================================\n",
      "conv2d (Conv2D)              (None, 1022, 1022, 32)    320       \n",
      "_________________________________________________________________\n",
      "conv2d_1 (Conv2D)            (None, 1020, 1020, 32)    9248      \n",
      "_________________________________________________________________\n",
      "max_pooling2d (MaxPooling2D) (None, 510, 510, 32)      0         \n",
      "_________________________________________________________________\n",
      "conv2d_2 (Conv2D)            (None, 508, 508, 32)      9248      \n",
      "_________________________________________________________________\n",
      "conv2d_3 (Conv2D)            (None, 506, 506, 32)      9248      \n",
      "_________________________________________________________________\n",
      "max_pooling2d_1 (MaxPooling2 (None, 253, 253, 32)      0         \n",
      "_________________________________________________________________\n",
      "conv2d_4 (Conv2D)            (None, 251, 251, 32)      9248      \n",
      "_________________________________________________________________\n",
      "max_pooling2d_2 (MaxPooling2 (None, 125, 125, 32)      0         \n",
      "_________________________________________________________________\n",
      "conv2d_5 (Conv2D)            (None, 123, 123, 16)      4624      \n",
      "_________________________________________________________________\n",
      "max_pooling2d_3 (MaxPooling2 (None, 61, 61, 16)        0         \n",
      "_________________________________________________________________\n",
      "global_max_pooling2d (Global (None, 16)                0         \n",
      "_________________________________________________________________\n",
      "dense (Dense)                (None, 12)                204       \n",
      "=================================================================\n",
      "Total params: 42,140\n",
      "Trainable params: 42,140\n",
      "Non-trainable params: 0\n",
      "_________________________________________________________________\n"
     ]
    }
   ],
   "source": [
    "model = models.Sequential()\n",
    "model.add(layers.Conv2D(32, 3, activation='relu', input_shape=input_shape[1:]))\n",
    "model.add(layers.Conv2D(32, 3, activation=\"relu\"))\n",
    "model.add(layers.MaxPooling2D(2))\n",
    "model.add(layers.Conv2D(32, 3, activation=\"relu\"))\n",
    "model.add(layers.Conv2D(32, 3, activation=\"relu\"))\n",
    "model.add(layers.MaxPooling2D(2))\n",
    "model.add(layers.Conv2D(32, 3, activation=\"relu\"))\n",
    "model.add(layers.MaxPooling2D(2))\n",
    "model.add(layers.Conv2D(16, 3, activation=\"relu\"))\n",
    "model.add(layers.MaxPooling2D(2))\n",
    "model.add(layers.GlobalMaxPooling2D())\n",
    "model.add(layers.Dense(12, activation=\"sigmoid\"))\n",
    "model.compile(loss='mse',\n",
    "                  optimizer=keras.optimizers.Adam(learning_rate=0.0003),\n",
    "                  metrics=[keras.metrics.AUC()])\n",
    "model.summary()"
   ]
  },
  {
   "cell_type": "code",
   "execution_count": 18,
   "metadata": {
    "scrolled": true
   },
   "outputs": [
    {
     "name": "stdout",
     "output_type": "stream",
     "text": [
      "Epoch 1/25\n",
      "24/24 [==============================] - 143s 6s/step - loss: 0.2383 - auc: 0.5656\n",
      "Epoch 2/25\n",
      "24/24 [==============================] - 144s 6s/step - loss: 0.2000 - auc: 0.5936\n",
      "Epoch 3/25\n",
      "24/24 [==============================] - 143s 6s/step - loss: 0.1899 - auc: 0.6106\n",
      "Epoch 4/25\n",
      "24/24 [==============================] - 143s 6s/step - loss: 0.1844 - auc: 0.6156\n",
      "Epoch 5/25\n",
      "24/24 [==============================] - 143s 6s/step - loss: 0.1805 - auc: 0.6226\n",
      "Epoch 6/25\n",
      "24/24 [==============================] - 144s 6s/step - loss: 0.1781 - auc: 0.6249\n",
      "Epoch 7/25\n",
      "24/24 [==============================] - 143s 6s/step - loss: 0.1752 - auc: 0.6397\n",
      "Epoch 8/25\n",
      "24/24 [==============================] - 143s 6s/step - loss: 0.1733 - auc: 0.6427\n",
      "Epoch 9/25\n",
      "24/24 [==============================] - 143s 6s/step - loss: 0.1721 - auc: 0.6439\n",
      "Epoch 10/25\n",
      "24/24 [==============================] - 143s 6s/step - loss: 0.1711 - auc: 0.6560\n",
      "Epoch 11/25\n",
      "24/24 [==============================] - 143s 6s/step - loss: 0.1693 - auc: 0.6609\n",
      "Epoch 12/25\n",
      "24/24 [==============================] - 143s 6s/step - loss: 0.1682 - auc: 0.6646\n",
      "Epoch 13/25\n",
      "24/24 [==============================] - 143s 6s/step - loss: 0.1673 - auc: 0.6724\n",
      "Epoch 14/25\n",
      "24/24 [==============================] - 143s 6s/step - loss: 0.1675 - auc: 0.6664\n",
      "Epoch 15/25\n",
      "24/24 [==============================] - 144s 6s/step - loss: 0.1657 - auc: 0.6766\n",
      "Epoch 16/25\n",
      "24/24 [==============================] - 143s 6s/step - loss: 0.1658 - auc: 0.6767\n",
      "Epoch 17/25\n",
      "24/24 [==============================] - 143s 6s/step - loss: 0.1653 - auc: 0.6771\n",
      "Epoch 18/25\n",
      "24/24 [==============================] - 143s 6s/step - loss: 0.1643 - auc: 0.6823\n",
      "Epoch 19/25\n",
      "24/24 [==============================] - 143s 6s/step - loss: 0.1636 - auc: 0.6858\n",
      "Epoch 20/25\n",
      "24/24 [==============================] - 144s 6s/step - loss: 0.1633 - auc: 0.6877\n",
      "Epoch 21/25\n",
      "24/24 [==============================] - 143s 6s/step - loss: 0.1629 - auc: 0.6920\n",
      "Epoch 22/25\n",
      "24/24 [==============================] - 143s 6s/step - loss: 0.1625 - auc: 0.6929\n",
      "Epoch 23/25\n",
      "24/24 [==============================] - 143s 6s/step - loss: 0.1625 - auc: 0.6959\n",
      "Epoch 24/25\n",
      "24/24 [==============================] - 143s 6s/step - loss: 0.1615 - auc: 0.6979\n",
      "Epoch 25/25\n",
      "24/24 [==============================] - 143s 6s/step - loss: 0.1611 - auc: 0.7005\n"
     ]
    }
   ],
   "source": [
    "with tf.device('/GPU:0'):\n",
    "    model.fit(input_list[0:120],outputs[0:120],verbose=1,epochs=25,batch_size=5,shuffle=True)"
   ]
  },
  {
   "cell_type": "code",
   "execution_count": null,
   "metadata": {
    "scrolled": true
   },
   "outputs": [],
   "source": [
    "y = model.predict(input_list[0:100])"
   ]
  },
  {
   "cell_type": "code",
   "execution_count": 24,
   "metadata": {},
   "outputs": [
    {
     "data": {
      "text/plain": [
       "[['BG_D', 'CLASS_ARCH', 'SEVERITY_B'],\n",
       " ['BG_D', 'CLASS_NORM', 'SEVERITY_B'],\n",
       " ['BG_D', 'CLASS_NORM', 'SEVERITY_B'],\n",
       " ['BG_D', 'CLASS_NORM', 'SEVERITY_B'],\n",
       " ['BG_D', 'CLASS_CIRC', 'SEVERITY_B'],\n",
       " ['BG_D', 'CLASS_CIRC', 'SEVERITY_B'],\n",
       " ['BG_D', 'CLASS_NORM', 'SEVERITY_B'],\n",
       " ['BG_G', 'CLASS_NORM', 'SEVERITY_B'],\n",
       " ['BG_D', 'CLASS_NORM', 'SEVERITY_B'],\n",
       " ['BG_G', 'CLASS_NORM', 'SEVERITY_B']]"
      ]
     },
     "execution_count": 24,
     "metadata": {},
     "output_type": "execute_result"
    }
   ],
   "source": [
    "translate_output(y)"
   ]
  },
  {
   "cell_type": "code",
   "execution_count": 1,
   "metadata": {
    "scrolled": true
   },
   "outputs": [
    {
     "ename": "NameError",
     "evalue": "name 'model' is not defined",
     "output_type": "error",
     "traceback": [
      "\u001b[1;31m---------------------------------------------------------------------------\u001b[0m",
      "\u001b[1;31mNameError\u001b[0m                                 Traceback (most recent call last)",
      "\u001b[1;32m<ipython-input-1-5340799cf999>\u001b[0m in \u001b[0;36m<module>\u001b[1;34m\u001b[0m\n\u001b[1;32m----> 1\u001b[1;33m \u001b[0mmodel\u001b[0m\u001b[1;33m.\u001b[0m\u001b[0mevaluate\u001b[0m\u001b[1;33m(\u001b[0m\u001b[0minput_list\u001b[0m\u001b[1;33m[\u001b[0m\u001b[1;36m120\u001b[0m\u001b[1;33m:\u001b[0m\u001b[1;36m122\u001b[0m\u001b[1;33m]\u001b[0m\u001b[1;33m,\u001b[0m\u001b[0moutputs\u001b[0m\u001b[1;33m[\u001b[0m\u001b[1;36m120\u001b[0m\u001b[1;33m:\u001b[0m\u001b[1;36m122\u001b[0m\u001b[1;33m]\u001b[0m\u001b[1;33m)\u001b[0m\u001b[1;33m\u001b[0m\u001b[1;33m\u001b[0m\u001b[0m\n\u001b[0m",
      "\u001b[1;31mNameError\u001b[0m: name 'model' is not defined"
     ]
    }
   ],
   "source": [
    "model.evaluate(input_list[120:122],outputs[120:122])"
   ]
  },
  {
   "cell_type": "code",
   "execution_count": 25,
   "metadata": {},
   "outputs": [],
   "source": [
    "model.save('modeltest.h5')"
   ]
  },
  {
   "cell_type": "code",
   "execution_count": null,
   "metadata": {},
   "outputs": [],
   "source": []
  }
 ],
 "metadata": {
  "kernelspec": {
   "display_name": "Python 3",
   "language": "python",
   "name": "python3"
  },
  "language_info": {
   "codemirror_mode": {
    "name": "ipython",
    "version": 3
   },
   "file_extension": ".py",
   "mimetype": "text/x-python",
   "name": "python",
   "nbconvert_exporter": "python",
   "pygments_lexer": "ipython3",
   "version": "3.7.9"
  }
 },
 "nbformat": 4,
 "nbformat_minor": 4
}
